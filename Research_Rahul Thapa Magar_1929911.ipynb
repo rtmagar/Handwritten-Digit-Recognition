{
 "cells": [
  {
   "cell_type": "code",
   "execution_count": 3,
   "metadata": {},
   "outputs": [
    {
     "name": "stdout",
     "output_type": "stream",
     "text": [
      "(124800, 28, 28)\n",
      "(20800, 28, 28)\n"
     ]
    }
   ],
   "source": [
    "from extra_keras_datasets import emnist\n",
    "(x_train, y_train), (x_test, y_test) = emnist.load_data(type='letters')\n",
    "print(x_train.shape)\n",
    "print(x_test.shape)"
   ]
  },
  {
   "cell_type": "code",
   "execution_count": 4,
   "metadata": {},
   "outputs": [
    {
     "name": "stdout",
     "output_type": "stream",
     "text": [
      "Initial shape or dimensions of x_train (124800, 28, 28)\n",
      "Number of samples in our training data: 124800\n",
      "Number of labels in our training data: 124800\n",
      "Number of samples in our test data: 20800\n",
      "Number of labels in our test data: 20800\n",
      "\n",
      "Dimensions of x_train:(28, 28)\n",
      "Labels in x_train:(124800,)\n",
      "\n",
      "Dimensions of x_test:(28, 28)\n",
      "Labels in y_test:(20800,)\n"
     ]
    }
   ],
   "source": [
    "# printing the number of samples in x_train, x_test, y_train, y_test\n",
    "print(\"Initial shape or dimensions of x_train\", str(x_train.shape))\n",
    "\n",
    "print (\"Number of samples in our training data: \" + str(len(x_train)))\n",
    "print (\"Number of labels in our training data: \" + str(len(y_train)))\n",
    "print (\"Number of samples in our test data: \" + str(len(x_test)))\n",
    "print (\"Number of labels in our test data: \" + str(len(y_test)))\n",
    "print()\n",
    "print (\"Dimensions of x_train:\" + str(x_train[0].shape))\n",
    "print (\"Labels in x_train:\" + str(y_train.shape))\n",
    "print()\n",
    "print (\"Dimensions of x_test:\" + str(x_test[0].shape))\n",
    "print (\"Labels in y_test:\" + str(y_test.shape))"
   ]
  },
  {
   "cell_type": "code",
   "execution_count": 5,
   "metadata": {},
   "outputs": [
    {
     "data": {
      "image/png": "[encoded data removed]",
      "text/plain": [
       "<Figure size 432x288 with 6 Axes>"
      ]
     },
     "metadata": {
      "needs_background": "light"
     },
     "output_type": "display_data"
    }
   ],
   "source": [
    "# importing matplot lib\n",
    "import matplotlib.pyplot as plt\n",
    "import numpy as np\n",
    "\n",
    "# Plots 6 images, note subplot's arugments are nrows,ncols,index\n",
    "# we set the color map to grey since our image dataset is grayscale\n",
    "plt.subplot(331)\n",
    "random_num = np.random.randint(0,len(x_train))\n",
    "plt.imshow(x_train[random_num], cmap=plt.get_cmap('gray'))\n",
    "\n",
    "plt.subplot(332)\n",
    "random_num = np.random.randint(0,len(x_train))\n",
    "plt.imshow(x_train[random_num], cmap=plt.get_cmap('gray'))\n",
    "\n",
    "plt.subplot(333)\n",
    "random_num = np.random.randint(0,len(x_train))\n",
    "plt.imshow(x_train[random_num], cmap=plt.get_cmap('gray'))\n",
    "\n",
    "plt.subplot(334)\n",
    "random_num = np.random.randint(0,len(x_train))\n",
    "plt.imshow(x_train[random_num], cmap=plt.get_cmap('gray'))\n",
    "\n",
    "plt.subplot(335)\n",
    "random_num = np.random.randint(0,len(x_train))\n",
    "plt.imshow(x_train[random_num], cmap=plt.get_cmap('gray'))\n",
    "\n",
    "plt.subplot(336)\n",
    "random_num = np.random.randint(0,len(x_train))\n",
    "plt.imshow(x_train[random_num], cmap=plt.get_cmap('gray'))\n",
    "\n",
    "# Display out plots\n",
    "plt.show()"
   ]
  },
  {
   "cell_type": "code",
   "execution_count": 6,
   "metadata": {},
   "outputs": [
    {
     "name": "stdout",
     "output_type": "stream",
     "text": [
      "x_train shape: (124800, 28, 28, 1)\n",
      "124800 train samples\n",
      "20800 test samples\n"
     ]
    }
   ],
   "source": [
    "# Lets store the number of rows and columns\n",
    "img_rows = x_train[0].shape[0]\n",
    "img_cols = x_train[0].shape[1]\n",
    "\n",
    "# Getting our date in the right 'shape' needed for Keras\n",
    "# We need to add a 4th dimenion to our date thereby changing our\n",
    "# Our original image shape of (60000,28,28) to (60000,28,28,1)\n",
    "x_train = x_train.reshape(x_train.shape[0], img_rows, img_cols, 1)\n",
    "x_test = x_test.reshape(x_test.shape[0], img_rows, img_cols, 1)\n",
    "\n",
    "# store the shape of a single image \n",
    "input_shape = (img_rows, img_cols, 1)\n",
    "\n",
    "# change our image type to float32 data type\n",
    "x_train = x_train.astype('float32')\n",
    "x_test = x_test.astype('float32')\n",
    "\n",
    "# Normalize our data by changing the range from (0 to 255) to (0 to 1)\n",
    "x_train /= 255\n",
    "x_test /= 255\n",
    "\n",
    "print('x_train shape:', x_train.shape)\n",
    "print(x_train.shape[0], 'train samples')\n",
    "print(x_test.shape[0], 'test samples')\n"
   ]
  },
  {
   "cell_type": "code",
   "execution_count": 7,
   "metadata": {},
   "outputs": [
    {
     "name": "stdout",
     "output_type": "stream",
     "text": [
      "Number of Classes: 27\n"
     ]
    },
    {
     "name": "stderr",
     "output_type": "stream",
     "text": [
      "Using TensorFlow backend.\n"
     ]
    }
   ],
   "source": [
    "from keras.utils import np_utils\n",
    "\n",
    "# Now we one hot encode outputs\n",
    "y_train = np_utils.to_categorical(y_train)\n",
    "y_test = np_utils.to_categorical(y_test)\n",
    "\n",
    "# Let's count the number columns in our hot encoded matrix \n",
    "print (\"Number of Classes: \" + str(y_test.shape[1]))\n",
    "\n",
    "num_classes = y_test.shape[1]\n",
    "num_pixels = x_train.shape[1] * x_train.shape[2]"
   ]
  },
  {
   "cell_type": "code",
   "execution_count": 8,
   "metadata": {},
   "outputs": [
    {
     "data": {
      "text/plain": [
       "array([0., 0., 0., 0., 0., 0., 0., 0., 0., 0., 0., 0., 0., 0., 0., 0., 0.,\n",
       "       1., 0., 0., 0., 0., 0., 0., 0., 0., 0.], dtype=float32)"
      ]
     },
     "execution_count": 8,
     "metadata": {},
     "output_type": "execute_result"
    }
   ],
   "source": [
    "y_train[5]"
   ]
  },
  {
   "cell_type": "code",
   "execution_count": 9,
   "metadata": {},
   "outputs": [
    {
     "name": "stdout",
     "output_type": "stream",
     "text": [
      "WARNING:tensorflow:From C:\\Users\\lenovo\\Anaconda3\\envs\\Handwritten_Letter_Recognition\\lib\\site-packages\\tensorflow_core\\python\\ops\\resource_variable_ops.py:1630: calling BaseResourceVariable.__init__ (from tensorflow.python.ops.resource_variable_ops) with constraint is deprecated and will be removed in a future version.\n",
      "Instructions for updating:\n",
      "If using Keras pass *_constraint arguments to layers.\n",
      "WARNING:tensorflow:From C:\\Users\\lenovo\\Anaconda3\\envs\\Handwritten_Letter_Recognition\\lib\\site-packages\\keras\\backend\\tensorflow_backend.py:4070: The name tf.nn.max_pool is deprecated. Please use tf.nn.max_pool2d instead.\n",
      "\n",
      "Model: \"sequential_1\"\n",
      "_________________________________________________________________\n",
      "Layer (type)                 Output Shape              Param #   \n",
      "=================================================================\n",
      "conv2d_1 (Conv2D)            (None, 26, 26, 32)        320       \n",
      "_________________________________________________________________\n",
      "max_pooling2d_1 (MaxPooling2 (None, 13, 13, 32)        0         \n",
      "_________________________________________________________________\n",
      "conv2d_2 (Conv2D)            (None, 11, 11, 48)        13872     \n",
      "_________________________________________________________________\n",
      "max_pooling2d_2 (MaxPooling2 (None, 5, 5, 48)          0         \n",
      "_________________________________________________________________\n",
      "conv2d_3 (Conv2D)            (None, 3, 3, 64)          27712     \n",
      "_________________________________________________________________\n",
      "dropout_1 (Dropout)          (None, 3, 3, 64)          0         \n",
      "_________________________________________________________________\n",
      "flatten_1 (Flatten)          (None, 576)               0         \n",
      "_________________________________________________________________\n",
      "dense_1 (Dense)              (None, 128)               73856     \n",
      "_________________________________________________________________\n",
      "dropout_2 (Dropout)          (None, 128)               0         \n",
      "_________________________________________________________________\n",
      "dense_2 (Dense)              (None, 27)                3483      \n",
      "=================================================================\n",
      "Total params: 119,243\n",
      "Trainable params: 119,243\n",
      "Non-trainable params: 0\n",
      "_________________________________________________________________\n",
      "None\n"
     ]
    }
   ],
   "source": [
    "import keras\n",
    "from keras.models import Sequential\n",
    "from keras.layers import Dense, Dropout, Flatten, Reshape\n",
    "from keras.layers import Conv2D, MaxPooling2D\n",
    "from keras.layers.normalization import BatchNormalization\n",
    "from keras import backend as K\n",
    "from keras.optimizers import SGD \n",
    "\n",
    "# create model\n",
    "model = Sequential()\n",
    "\n",
    "model.add(Conv2D(32, kernel_size=(3, 3),\n",
    "                 activation='relu',\n",
    "                 input_shape=input_shape))\n",
    "model.add(MaxPooling2D(pool_size=(2, 2)))\n",
    "model.add(Conv2D(48, (3, 3), activation='relu'))\n",
    "model.add(MaxPooling2D(pool_size=(2, 2)))\n",
    "\n",
    "model.add(Conv2D(64, (3, 3), activation='relu'))\n",
    "model.add(Dropout(0.25))\n",
    "model.add(Flatten())\n",
    "model.add(Dense(128, activation='relu'))\n",
    "model.add(Dropout(0.5))\n",
    "model.add(Dense(num_classes, activation='softmax'))\n",
    "\n",
    "model.compile(loss = 'categorical_crossentropy',\n",
    "              optimizer = SGD(0.01),\n",
    "              metrics = ['accuracy'])\n",
    "\n",
    "print(model.summary())"
   ]
  },
  {
   "cell_type": "code",
   "execution_count": 10,
   "metadata": {},
   "outputs": [
    {
     "name": "stdout",
     "output_type": "stream",
     "text": [
      "WARNING:tensorflow:From C:\\Users\\lenovo\\Anaconda3\\envs\\Handwritten_Letter_Recognition\\lib\\site-packages\\keras\\backend\\tensorflow_backend.py:422: The name tf.global_variables is deprecated. Please use tf.compat.v1.global_variables instead.\n",
      "\n",
      "Train on 124800 samples, validate on 20800 samples\n",
      "Epoch 1/25\n",
      "124800/124800 [==============================] - 95s 758us/step - loss: 1.8277 - accuracy: 0.4631 - val_loss: 0.6044 - val_accuracy: 0.8198\n",
      "Epoch 2/25\n",
      "124800/124800 [==============================] - 104s 832us/step - loss: 0.7532 - accuracy: 0.7631 - val_loss: 0.3840 - val_accuracy: 0.8781\n",
      "Epoch 3/25\n",
      "124800/124800 [==============================] - 107s 855us/step - loss: 0.5798 - accuracy: 0.8179 - val_loss: 0.3156 - val_accuracy: 0.8987\n",
      "Epoch 4/25\n",
      "124800/124800 [==============================] - 107s 860us/step - loss: 0.4991 - accuracy: 0.8420 - val_loss: 0.2856 - val_accuracy: 0.9087\n",
      "Epoch 5/25\n",
      "124800/124800 [==============================] - 106s 847us/step - loss: 0.4510 - accuracy: 0.8571 - val_loss: 0.2844 - val_accuracy: 0.9100\n",
      "Epoch 6/25\n",
      "124800/124800 [==============================] - 105s 844us/step - loss: 0.4156 - accuracy: 0.8673 - val_loss: 0.2569 - val_accuracy: 0.9162\n",
      "Epoch 7/25\n",
      "124800/124800 [==============================] - 103s 825us/step - loss: 0.3949 - accuracy: 0.8745 - val_loss: 0.2444 - val_accuracy: 0.9193\n",
      "Epoch 8/25\n",
      "124800/124800 [==============================] - 104s 833us/step - loss: 0.3725 - accuracy: 0.8812 - val_loss: 0.2378 - val_accuracy: 0.9216\n",
      "Epoch 9/25\n",
      "124800/124800 [==============================] - 103s 827us/step - loss: 0.3588 - accuracy: 0.8850 - val_loss: 0.2252 - val_accuracy: 0.9268\n",
      "Epoch 10/25\n",
      "124800/124800 [==============================] - 104s 834us/step - loss: 0.3411 - accuracy: 0.8915 - val_loss: 0.2242 - val_accuracy: 0.9259\n",
      "Epoch 11/25\n",
      "124800/124800 [==============================] - 110s 882us/step - loss: 0.3320 - accuracy: 0.8938 - val_loss: 0.2166 - val_accuracy: 0.9286\n",
      "Epoch 12/25\n",
      "124800/124800 [==============================] - 110s 882us/step - loss: 0.3241 - accuracy: 0.8954 - val_loss: 0.2162 - val_accuracy: 0.9297\n",
      "Epoch 13/25\n",
      "124800/124800 [==============================] - 110s 880us/step - loss: 0.3103 - accuracy: 0.9001 - val_loss: 0.2124 - val_accuracy: 0.9305\n",
      "Epoch 14/25\n",
      "124800/124800 [==============================] - 113s 902us/step - loss: 0.3071 - accuracy: 0.9013 - val_loss: 0.2065 - val_accuracy: 0.9309\n",
      "Epoch 15/25\n",
      "124800/124800 [==============================] - 106s 850us/step - loss: 0.2972 - accuracy: 0.9042 - val_loss: 0.2045 - val_accuracy: 0.9326\n",
      "Epoch 16/25\n",
      "124800/124800 [==============================] - 113s 906us/step - loss: 0.2938 - accuracy: 0.9050 - val_loss: 0.2029 - val_accuracy: 0.9323\n",
      "Epoch 17/25\n",
      "124800/124800 [==============================] - 115s 919us/step - loss: 0.2849 - accuracy: 0.9079 - val_loss: 0.1997 - val_accuracy: 0.9335\n",
      "Epoch 18/25\n",
      "124800/124800 [==============================] - 113s 906us/step - loss: 0.2798 - accuracy: 0.9085 - val_loss: 0.1988 - val_accuracy: 0.9348\n",
      "Epoch 19/25\n",
      "124800/124800 [==============================] - 112s 900us/step - loss: 0.2762 - accuracy: 0.9107 - val_loss: 0.2009 - val_accuracy: 0.9338\n",
      "Epoch 20/25\n",
      "124800/124800 [==============================] - 113s 903us/step - loss: 0.2718 - accuracy: 0.9116 - val_loss: 0.1956 - val_accuracy: 0.9359\n",
      "Epoch 21/25\n",
      "124800/124800 [==============================] - 111s 891us/step - loss: 0.2676 - accuracy: 0.9127 - val_loss: 0.1942 - val_accuracy: 0.9351\n",
      "Epoch 22/25\n",
      "124800/124800 [==============================] - 112s 901us/step - loss: 0.2641 - accuracy: 0.9137 - val_loss: 0.1976 - val_accuracy: 0.9345\n",
      "Epoch 23/25\n",
      "124800/124800 [==============================] - 115s 919us/step - loss: 0.2579 - accuracy: 0.9164 - val_loss: 0.1903 - val_accuracy: 0.9365\n",
      "Epoch 24/25\n",
      "124800/124800 [==============================] - 116s 926us/step - loss: 0.2538 - accuracy: 0.9166 - val_loss: 0.1930 - val_accuracy: 0.9351\n",
      "Epoch 25/25\n",
      "124800/124800 [==============================] - 113s 906us/step - loss: 0.2536 - accuracy: 0.9170 - val_loss: 0.1895 - val_accuracy: 0.9366\n",
      "Test loss: 0.18950616476515558\n",
      "Test accuracy: 0.9366346001625061\n"
     ]
    }
   ],
   "source": [
    "batch_size = 32\n",
    "epochs = 25\n",
    "\n",
    "history = model.fit(x_train,\n",
    "                    y_train,\n",
    "                    batch_size = batch_size,\n",
    "                    epochs = epochs,\n",
    "                    verbose = 1,\n",
    "                    validation_data = (x_test, y_test))\n",
    "\n",
    "score = model.evaluate(x_test, y_test, verbose=0)\n",
    "print('Test loss:', score[0])\n",
    "print('Test accuracy:', score[1])"
   ]
  },
  {
   "cell_type": "code",
   "execution_count": 11,
   "metadata": {},
   "outputs": [
    {
     "data": {
      "image/png": "[encoded data removed]",
      "text/plain": [
       "<Figure size 432x288 with 1 Axes>"
      ]
     },
     "metadata": {
      "needs_background": "light"
     },
     "output_type": "display_data"
    }
   ],
   "source": [
    "  # Plotting our loss charts\n",
    "import matplotlib.pyplot as plt\n",
    "\n",
    "history_dict = history.history\n",
    "\n",
    "loss_values = history_dict['loss']\n",
    "val_loss_values = history_dict['val_loss']\n",
    "epochs = range(1, len(loss_values) + 1)\n",
    "\n",
    "line1 = plt.plot(epochs, val_loss_values, label='Validation/Test Loss')\n",
    "line2 = plt.plot(epochs, loss_values, label='Training Loss')\n",
    "plt.setp(line1, linewidth=2.0, marker = '+', markersize=10.0)\n",
    "plt.setp(line2, linewidth=2.0, marker = '4', markersize=10.0)\n",
    "plt.xlabel('Epochs') \n",
    "plt.ylabel('Loss')\n",
    "plt.grid(True)\n",
    "plt.legend()\n",
    "plt.show()"
   ]
  },
  {
   "cell_type": "code",
   "execution_count": 12,
   "metadata": {},
   "outputs": [
    {
     "data": {
      "image/png": "[encoded data removed]",
      "text/plain": [
       "<Figure size 432x288 with 1 Axes>"
      ]
     },
     "metadata": {
      "needs_background": "light"
     },
     "output_type": "display_data"
    }
   ],
   "source": [
    "# Plotting our accuracy charts\n",
    "import matplotlib.pyplot as plt\n",
    "\n",
    "history_dict = history.history\n",
    "\n",
    "acc_values = history_dict['accuracy']\n",
    "val_acc_values = history_dict['val_accuracy']\n",
    "epochs = range(1, len(loss_values) + 1)\n",
    "\n",
    "line1 = plt.plot(epochs, val_acc_values, label='Validation/Test Accuracy')\n",
    "line2 = plt.plot(epochs, acc_values, label='Training Accuracy')\n",
    "plt.setp(line1, linewidth=2.0, marker = '+', markersize=10.0)\n",
    "plt.setp(line2, linewidth=2.0, marker = '4', markersize=10.0)\n",
    "plt.xlabel('Epochs') \n",
    "plt.ylabel('Accuracy')\n",
    "plt.grid(True)\n",
    "plt.legend()\n",
    "plt.show()"
   ]
  },
  {
   "cell_type": "code",
   "execution_count": 22,
   "metadata": {},
   "outputs": [
    {
     "name": "stdout",
     "output_type": "stream",
     "text": [
      "1\n"
     ]
    },
    {
     "data": {
      "image/png": "[encoded data removed]",
      "text/plain": [
       "<Figure size 432x288 with 1 Axes>"
      ]
     },
     "metadata": {
      "needs_background": "light"
     },
     "output_type": "display_data"
    }
   ],
   "source": [
    "    import cv2\n",
    "    image_index = 5\n",
    "    plt.imshow(x_test[image_index].reshape(28,28),cmap='Greys')\n",
    "    predictions = model.predict([x_test])\n",
    "    print(np.argmax(predictions[image_index]))"
   ]
  }
 ],
 "metadata": {
  "kernelspec": {
   "display_name": "Python 3",
   "language": "python",
   "name": "python3"
  },
  "language_info": {
   "codemirror_mode": {
    "name": "ipython",
    "version": 3
   },
   "file_extension": ".py",
   "mimetype": "text/x-python",
   "name": "python",
   "nbconvert_exporter": "python",
   "pygments_lexer": "ipython3",
   "version": "3.7.6"
  }
 },
 "nbformat": 4,
 "nbformat_minor": 2
}
